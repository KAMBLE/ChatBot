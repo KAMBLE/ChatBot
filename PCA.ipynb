{
  "nbformat": 4,
  "nbformat_minor": 0,
  "metadata": {
    "colab": {
      "name": "PCA.ipynb",
      "version": "0.3.2",
      "provenance": [],
      "include_colab_link": true
    },
    "kernelspec": {
      "name": "python3",
      "display_name": "Python 3"
    }
  },
  "cells": [
    {
      "cell_type": "markdown",
      "metadata": {
        "id": "view-in-github",
        "colab_type": "text"
      },
      "source": [
        "<a href=\"https://colab.research.google.com/github/KAMBLE/ChatBot/blob/master/PCA.ipynb\" target=\"_parent\"><img src=\"https://colab.research.google.com/assets/colab-badge.svg\" alt=\"Open In Colab\"/></a>"
      ]
    },
    {
      "metadata": {
        "id": "kvKmRNgvbAM6",
        "colab_type": "code",
        "colab": {}
      },
      "cell_type": "code",
      "source": [
        "import numpy as np\n",
        "from numpy.linalg import eig"
      ],
      "execution_count": 0,
      "outputs": []
    },
    {
      "metadata": {
        "id": "gnDAS24obUin",
        "colab_type": "code",
        "colab": {
          "base_uri": "https://localhost:8080/",
          "height": 68
        },
        "outputId": "fd167249-35c1-4ac7-f84c-825c06f01e3a"
      },
      "cell_type": "code",
      "source": [
        "# define a matrix\n",
        "A = np.array([[1, 2], [3, 4], [5, 6]])\n",
        "print(A)"
      ],
      "execution_count": 3,
      "outputs": [
        {
          "output_type": "stream",
          "text": [
            "[[1 2]\n",
            " [3 4]\n",
            " [5 6]]\n"
          ],
          "name": "stdout"
        }
      ]
    },
    {
      "metadata": {
        "id": "zwxC7Hd9bUh2",
        "colab_type": "code",
        "colab": {
          "base_uri": "https://localhost:8080/",
          "height": 34
        },
        "outputId": "d33f853c-4016-4d8f-8bce-72088d0d8e31"
      },
      "cell_type": "code",
      "source": [
        "# calculate the mean of each column\n",
        "M = np.mean(A.T, axis=1)\n",
        "print(M)"
      ],
      "execution_count": 12,
      "outputs": [
        {
          "output_type": "stream",
          "text": [
            "[3. 4.]\n"
          ],
          "name": "stdout"
        }
      ]
    },
    {
      "metadata": {
        "id": "Ox4zqL9Qbsrt",
        "colab_type": "code",
        "colab": {
          "base_uri": "https://localhost:8080/",
          "height": 68
        },
        "outputId": "e1f1010b-5016-49d6-b3d5-5ef843874d65"
      },
      "cell_type": "code",
      "source": [
        "# center columns by subtracting column means\n",
        "C = A - M\n",
        "print(C)"
      ],
      "execution_count": 6,
      "outputs": [
        {
          "output_type": "stream",
          "text": [
            "[[-2. -2.]\n",
            " [ 0.  0.]\n",
            " [ 2.  2.]]\n"
          ],
          "name": "stdout"
        }
      ]
    },
    {
      "metadata": {
        "id": "bzOdFmUCb0sW",
        "colab_type": "code",
        "colab": {
          "base_uri": "https://localhost:8080/",
          "height": 51
        },
        "outputId": "30744170-7bda-4e2a-9745-1c6cdee8c9ce"
      },
      "cell_type": "code",
      "source": [
        "# calculate covariance matrix of centered matrix\n",
        "V = np.cov(C.T)\n",
        "print(V)"
      ],
      "execution_count": 10,
      "outputs": [
        {
          "output_type": "stream",
          "text": [
            "[[4. 4.]\n",
            " [4. 4.]]\n"
          ],
          "name": "stdout"
        }
      ]
    },
    {
      "metadata": {
        "id": "6v2SnY6veCHb",
        "colab_type": "code",
        "colab": {
          "base_uri": "https://localhost:8080/",
          "height": 68
        },
        "outputId": "69aa62e4-81ff-48ea-ab9f-1cad3bb51fe8"
      },
      "cell_type": "code",
      "source": [
        "# eigendecomposition of covariance matrix\n",
        "values, vectors = eig(V)\n",
        "print(vectors)\n",
        "print(values)"
      ],
      "execution_count": 13,
      "outputs": [
        {
          "output_type": "stream",
          "text": [
            "[[ 0.70710678 -0.70710678]\n",
            " [ 0.70710678  0.70710678]]\n",
            "[8. 0.]\n"
          ],
          "name": "stdout"
        }
      ]
    },
    {
      "metadata": {
        "id": "SDEUxzkaeQG1",
        "colab_type": "code",
        "colab": {
          "base_uri": "https://localhost:8080/",
          "height": 68
        },
        "outputId": "e6e75ddc-f8a4-4692-d934-38ff7568032e"
      },
      "cell_type": "code",
      "source": [
        "# project data\n",
        "P = vectors.T.dot(C.T)\n",
        "print(P.T)"
      ],
      "execution_count": 14,
      "outputs": [
        {
          "output_type": "stream",
          "text": [
            "[[-2.82842712  0.        ]\n",
            " [ 0.          0.        ]\n",
            " [ 2.82842712  0.        ]]\n"
          ],
          "name": "stdout"
        }
      ]
    },
    {
      "metadata": {
        "id": "Kcv2xjQigTFa",
        "colab_type": "text"
      },
      "cell_type": "markdown",
      "source": [
        "Using inbuilt functionality "
      ]
    },
    {
      "metadata": {
        "id": "VL6e2UgRgbGo",
        "colab_type": "code",
        "colab": {}
      },
      "cell_type": "code",
      "source": [
        "from sklearn.decomposition import PCA"
      ],
      "execution_count": 0,
      "outputs": []
    },
    {
      "metadata": {
        "id": "ZAD91CTPgnlG",
        "colab_type": "code",
        "colab": {
          "base_uri": "https://localhost:8080/",
          "height": 68
        },
        "outputId": "1a117780-f4a3-4fdf-f019-cbf583b9ef99"
      },
      "cell_type": "code",
      "source": [
        "# define a matrix\n",
        "A = np.array([[1, 2], [3, 4], [5, 6]])\n",
        "print(A)"
      ],
      "execution_count": 17,
      "outputs": [
        {
          "output_type": "stream",
          "text": [
            "[[1 2]\n",
            " [3 4]\n",
            " [5 6]]\n"
          ],
          "name": "stdout"
        }
      ]
    },
    {
      "metadata": {
        "id": "d70xxVgMgnoI",
        "colab_type": "code",
        "colab": {
          "base_uri": "https://localhost:8080/",
          "height": 68
        },
        "outputId": "a3c2bf79-f6e7-497c-a275-514d6117db7e"
      },
      "cell_type": "code",
      "source": [
        "# define a matrix\n",
        "A = np.array([[1, 2], [3, 4], [5, 6]])\n",
        "print(A)"
      ],
      "execution_count": 19,
      "outputs": [
        {
          "output_type": "stream",
          "text": [
            "[[1 2]\n",
            " [3 4]\n",
            " [5 6]]\n"
          ],
          "name": "stdout"
        }
      ]
    },
    {
      "metadata": {
        "id": "JhXZEal3gnq6",
        "colab_type": "code",
        "colab": {}
      },
      "cell_type": "code",
      "source": [
        "# create the PCA instance\n",
        "pca = PCA(2)"
      ],
      "execution_count": 0,
      "outputs": []
    },
    {
      "metadata": {
        "id": "nX957FKog_hP",
        "colab_type": "code",
        "colab": {
          "base_uri": "https://localhost:8080/",
          "height": 51
        },
        "outputId": "687168e9-4b4d-4198-b49a-689dbb821246"
      },
      "cell_type": "code",
      "source": [
        "# fit on data\n",
        "pca.fit(A)"
      ],
      "execution_count": 22,
      "outputs": [
        {
          "output_type": "execute_result",
          "data": {
            "text/plain": [
              "PCA(copy=True, iterated_power='auto', n_components=2, random_state=None,\n",
              "  svd_solver='auto', tol=0.0, whiten=False)"
            ]
          },
          "metadata": {
            "tags": []
          },
          "execution_count": 22
        }
      ]
    },
    {
      "metadata": {
        "id": "-JQc43UphKFB",
        "colab_type": "code",
        "colab": {
          "base_uri": "https://localhost:8080/",
          "height": 68
        },
        "outputId": "79f56a4b-a59e-4b15-e612-70446832b7aa"
      },
      "cell_type": "code",
      "source": [
        "# access values and vectors\n",
        "print(pca.components_)\n",
        "print(pca.explained_variance_)"
      ],
      "execution_count": 23,
      "outputs": [
        {
          "output_type": "stream",
          "text": [
            "[[ 0.70710678  0.70710678]\n",
            " [-0.70710678  0.70710678]]\n",
            "[8. 0.]\n"
          ],
          "name": "stdout"
        }
      ]
    },
    {
      "metadata": {
        "id": "YBFkr0Qhg_gf",
        "colab_type": "code",
        "colab": {
          "base_uri": "https://localhost:8080/",
          "height": 68
        },
        "outputId": "4ee37b8f-53a1-4172-ea1b-309377f888af"
      },
      "cell_type": "code",
      "source": [
        "# transform data\n",
        "B = pca.transform(A)\n",
        "print(B)"
      ],
      "execution_count": 24,
      "outputs": [
        {
          "output_type": "stream",
          "text": [
            "[[-2.82842712e+00 -2.22044605e-16]\n",
            " [ 0.00000000e+00  0.00000000e+00]\n",
            " [ 2.82842712e+00  2.22044605e-16]]\n"
          ],
          "name": "stdout"
        }
      ]
    }
  ]
}