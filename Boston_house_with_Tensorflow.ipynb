{
  "nbformat": 4,
  "nbformat_minor": 0,
  "metadata": {
    "colab": {
      "name": "Boston_house_with_Tensorflow.ipynb",
      "version": "0.3.2",
      "provenance": [],
      "include_colab_link": true
    },
    "kernelspec": {
      "name": "python3",
      "display_name": "Python 3"
    },
    "accelerator": "GPU"
  },
  "cells": [
    {
      "cell_type": "markdown",
      "metadata": {
        "id": "view-in-github",
        "colab_type": "text"
      },
      "source": [
        "<a href=\"https://colab.research.google.com/github/KAMBLE/ChatBot/blob/master/Boston_house_with_Tensorflow.ipynb\" target=\"_parent\"><img src=\"https://colab.research.google.com/assets/colab-badge.svg\" alt=\"Open In Colab\"/></a>"
      ]
    },
    {
      "metadata": {
        "id": "N6oEKzwEGkQu",
        "colab_type": "code",
        "colab": {}
      },
      "cell_type": "code",
      "source": [
        "import pandas as pd\n",
        "import numpy as np\n",
        "import tensorflow as tf\n",
        "import itertools"
      ],
      "execution_count": 0,
      "outputs": []
    },
    {
      "metadata": {
        "id": "-0JUvjamL2-5",
        "colab_type": "code",
        "colab": {}
      },
      "cell_type": "code",
      "source": [
        "COLUMNS = [\"crim\", \"zn\", \"indus\", \"nox\", \"rm\", \"age\",\"dis\", \"tax\", \"ptratio\", \"medv\"]"
      ],
      "execution_count": 0,
      "outputs": []
    },
    {
      "metadata": {
        "id": "6U3QPj5sG26W",
        "colab_type": "code",
        "colab": {}
      },
      "cell_type": "code",
      "source": [
        "train_set = pd.read_csv(\"sample_data/boston_train.csv\",skipinitialspace=True,skiprows=1,names=COLUMNS)\n",
        "\n",
        "test_set = pd.read_csv(\"sample_data/boston_test.csv\",skipinitialspace=True,skiprows=1,names=COLUMNS)\n",
        "\n",
        "prediction_set = pd.read_csv(\"sample_data/boston_predict.csv\",skipinitialspace=True,skiprows=1,names=COLUMNS)"
      ],
      "execution_count": 0,
      "outputs": []
    },
    {
      "metadata": {
        "id": "8iR3Bl7qKedH",
        "colab_type": "code",
        "colab": {
          "base_uri": "https://localhost:8080/",
          "height": 204
        },
        "outputId": "d59ce41f-ef13-4c14-90a5-c745924695ad"
      },
      "cell_type": "code",
      "source": [
        "train_set.head()"
      ],
      "execution_count": 7,
      "outputs": [
        {
          "output_type": "execute_result",
          "data": {
            "text/html": [
              "<div>\n",
              "<style scoped>\n",
              "    .dataframe tbody tr th:only-of-type {\n",
              "        vertical-align: middle;\n",
              "    }\n",
              "\n",
              "    .dataframe tbody tr th {\n",
              "        vertical-align: top;\n",
              "    }\n",
              "\n",
              "    .dataframe thead th {\n",
              "        text-align: right;\n",
              "    }\n",
              "</style>\n",
              "<table border=\"1\" class=\"dataframe\">\n",
              "  <thead>\n",
              "    <tr style=\"text-align: right;\">\n",
              "      <th></th>\n",
              "      <th>400</th>\n",
              "      <th>9</th>\n",
              "      <th>CRIM</th>\n",
              "      <th>ZN</th>\n",
              "      <th>INDUS</th>\n",
              "      <th>NOX</th>\n",
              "      <th>RM</th>\n",
              "      <th>AGE</th>\n",
              "      <th>DIS</th>\n",
              "      <th>TAX</th>\n",
              "      <th>PTRATIO</th>\n",
              "      <th>MEDV</th>\n",
              "    </tr>\n",
              "  </thead>\n",
              "  <tbody>\n",
              "    <tr>\n",
              "      <th>0</th>\n",
              "      <td>2.30040</td>\n",
              "      <td>0.0</td>\n",
              "      <td>19.58</td>\n",
              "      <td>0.605</td>\n",
              "      <td>6.319</td>\n",
              "      <td>96.1</td>\n",
              "      <td>2.1000</td>\n",
              "      <td>403</td>\n",
              "      <td>14.7</td>\n",
              "      <td>23.8</td>\n",
              "      <td>NaN</td>\n",
              "      <td>NaN</td>\n",
              "    </tr>\n",
              "    <tr>\n",
              "      <th>1</th>\n",
              "      <td>13.35980</td>\n",
              "      <td>0.0</td>\n",
              "      <td>18.10</td>\n",
              "      <td>0.693</td>\n",
              "      <td>5.887</td>\n",
              "      <td>94.7</td>\n",
              "      <td>1.7821</td>\n",
              "      <td>666</td>\n",
              "      <td>20.2</td>\n",
              "      <td>12.7</td>\n",
              "      <td>NaN</td>\n",
              "      <td>NaN</td>\n",
              "    </tr>\n",
              "    <tr>\n",
              "      <th>2</th>\n",
              "      <td>0.12744</td>\n",
              "      <td>0.0</td>\n",
              "      <td>6.91</td>\n",
              "      <td>0.448</td>\n",
              "      <td>6.770</td>\n",
              "      <td>2.9</td>\n",
              "      <td>5.7209</td>\n",
              "      <td>233</td>\n",
              "      <td>17.9</td>\n",
              "      <td>26.6</td>\n",
              "      <td>NaN</td>\n",
              "      <td>NaN</td>\n",
              "    </tr>\n",
              "    <tr>\n",
              "      <th>3</th>\n",
              "      <td>0.15876</td>\n",
              "      <td>0.0</td>\n",
              "      <td>10.81</td>\n",
              "      <td>0.413</td>\n",
              "      <td>5.961</td>\n",
              "      <td>17.5</td>\n",
              "      <td>5.2873</td>\n",
              "      <td>305</td>\n",
              "      <td>19.2</td>\n",
              "      <td>21.7</td>\n",
              "      <td>NaN</td>\n",
              "      <td>NaN</td>\n",
              "    </tr>\n",
              "    <tr>\n",
              "      <th>4</th>\n",
              "      <td>0.03768</td>\n",
              "      <td>80.0</td>\n",
              "      <td>1.52</td>\n",
              "      <td>0.404</td>\n",
              "      <td>7.274</td>\n",
              "      <td>38.3</td>\n",
              "      <td>7.3090</td>\n",
              "      <td>329</td>\n",
              "      <td>12.6</td>\n",
              "      <td>34.6</td>\n",
              "      <td>NaN</td>\n",
              "      <td>NaN</td>\n",
              "    </tr>\n",
              "  </tbody>\n",
              "</table>\n",
              "</div>"
            ],
            "text/plain": [
              "        400     9   CRIM     ZN  INDUS   NOX      RM  AGE   DIS   TAX  \\\n",
              "0   2.30040   0.0  19.58  0.605  6.319  96.1  2.1000  403  14.7  23.8   \n",
              "1  13.35980   0.0  18.10  0.693  5.887  94.7  1.7821  666  20.2  12.7   \n",
              "2   0.12744   0.0   6.91  0.448  6.770   2.9  5.7209  233  17.9  26.6   \n",
              "3   0.15876   0.0  10.81  0.413  5.961  17.5  5.2873  305  19.2  21.7   \n",
              "4   0.03768  80.0   1.52  0.404  7.274  38.3  7.3090  329  12.6  34.6   \n",
              "\n",
              "   PTRATIO  MEDV  \n",
              "0      NaN   NaN  \n",
              "1      NaN   NaN  \n",
              "2      NaN   NaN  \n",
              "3      NaN   NaN  \n",
              "4      NaN   NaN  "
            ]
          },
          "metadata": {
            "tags": []
          },
          "execution_count": 7
        }
      ]
    },
    {
      "metadata": {
        "id": "aDmt6bdJMpZ_",
        "colab_type": "code",
        "colab": {
          "base_uri": "https://localhost:8080/",
          "height": 34
        },
        "outputId": "98000ce7-89cc-4061-ef18-d0cf20c89de7"
      },
      "cell_type": "code",
      "source": [
        "print(train_set.shape,test_set.shape)"
      ],
      "execution_count": 16,
      "outputs": [
        {
          "output_type": "stream",
          "text": [
            "(400, 10) (100, 10)\n"
          ],
          "name": "stdout"
        }
      ]
    },
    {
      "metadata": {
        "id": "OL-zXsZ6NOkq",
        "colab_type": "code",
        "colab": {}
      },
      "cell_type": "code",
      "source": [
        "FEATURES = [\"crim\", \"zn\", \"indus\", \"nox\", \"rm\", \"age\",\"dis\", \"tax\", \"ptratio\"]\n",
        "LABEL = \"medv\""
      ],
      "execution_count": 0,
      "outputs": []
    },
    {
      "metadata": {
        "id": "FnfzRrHhOEas",
        "colab_type": "code",
        "colab": {}
      },
      "cell_type": "code",
      "source": [
        "feature_column = [tf.feature_column.numeric_column(k) for k in FEATURES] "
      ],
      "execution_count": 0,
      "outputs": []
    },
    {
      "metadata": {
        "id": "oTLQa_vgOkQT",
        "colab_type": "code",
        "colab": {
          "base_uri": "https://localhost:8080/",
          "height": 173
        },
        "outputId": "df8c5ebe-f72b-4cec-af1b-2ae076ee637a"
      },
      "cell_type": "code",
      "source": [
        "estimator = tf.estimator.LinearRegressor(feature_columns=feature_column,model_dir=\"train\")"
      ],
      "execution_count": 21,
      "outputs": [
        {
          "output_type": "stream",
          "text": [
            "INFO:tensorflow:Using default config.\n",
            "INFO:tensorflow:Using config: {'_model_dir': 'train', '_tf_random_seed': None, '_save_summary_steps': 100, '_save_checkpoints_steps': None, '_save_checkpoints_secs': 600, '_session_config': allow_soft_placement: true\n",
            "graph_options {\n",
            "  rewrite_options {\n",
            "    meta_optimizer_iterations: ONE\n",
            "  }\n",
            "}\n",
            ", '_keep_checkpoint_max': 5, '_keep_checkpoint_every_n_hours': 10000, '_log_step_count_steps': 100, '_train_distribute': None, '_device_fn': None, '_protocol': None, '_eval_distribute': None, '_experimental_distribute': None, '_service': None, '_cluster_spec': <tensorflow.python.training.server_lib.ClusterSpec object at 0x7f12606942e8>, '_task_type': 'worker', '_task_id': 0, '_global_id_in_cluster': 0, '_master': '', '_evaluation_master': '', '_is_chief': True, '_num_ps_replicas': 0, '_num_worker_replicas': 1}\n"
          ],
          "name": "stdout"
        }
      ]
    },
    {
      "metadata": {
        "id": "Jz1wX7uKSqAu",
        "colab_type": "code",
        "colab": {}
      },
      "cell_type": "code",
      "source": [
        "# def get_input_fn(data_set,num_epochs=None,n_batch=128,shuffle=True):\n",
        "#   return tf.estimator.inputs.pandas_input_fn(\n",
        "#   x=pd.DataFrame({k:data_set[k].values for k in FEATURES}),\n",
        "#   Y=pd.Series(data_set[LABEL].values),\n",
        "#   batch_size=n_batch,          \n",
        "#   num_epochs=num_epochs,       \n",
        "#   shuffle=shuffle)    \n",
        "def get_input_fn(data_set, num_epochs=None, n_batch = 128, shuffle=True):    \n",
        "         return tf.estimator.inputs.pandas_input_fn(       \n",
        "         x=pd.DataFrame({k: data_set[k].values for k in FEATURES}),       \n",
        "         y = pd.Series(data_set[LABEL].values),       \n",
        "         batch_size=n_batch,          \n",
        "         num_epochs=num_epochs,       \n",
        "         shuffle=shuffle)  "
      ],
      "execution_count": 0,
      "outputs": []
    },
    {
      "metadata": {
        "id": "CWh_BiLKVIQp",
        "colab_type": "code",
        "colab": {
          "base_uri": "https://localhost:8080/",
          "height": 581
        },
        "outputId": "4e2d8f1b-e3d1-4211-be71-1f403c0d142b"
      },
      "cell_type": "code",
      "source": [
        "# estimator.train(input_fn=get_input_fn(train_set,\n",
        "#                                      num_epochs=None,\n",
        "#                                      n_batch=128,\n",
        "#                                      shuffle=True),\n",
        "#                                      steps=100)\n",
        "\n",
        "estimator.train(input_fn=get_input_fn(train_set,                                       \n",
        "                                           num_epochs=None,                                      \n",
        "                                           n_batch = 128,                                      \n",
        "                                           shuffle=False),                                      \n",
        "                                           steps=1000)\t\t"
      ],
      "execution_count": 35,
      "outputs": [
        {
          "output_type": "stream",
          "text": [
            "INFO:tensorflow:Calling model_fn.\n",
            "INFO:tensorflow:Done calling model_fn.\n",
            "INFO:tensorflow:Create CheckpointSaverHook.\n",
            "INFO:tensorflow:Graph was finalized.\n",
            "INFO:tensorflow:Running local_init_op.\n",
            "INFO:tensorflow:Done running local_init_op.\n",
            "WARNING:tensorflow:From /usr/local/lib/python3.6/dist-packages/tensorflow/python/training/monitored_session.py:804: start_queue_runners (from tensorflow.python.training.queue_runner_impl) is deprecated and will be removed in a future version.\n",
            "Instructions for updating:\n",
            "To construct input pipelines, use the `tf.data` module.\n",
            "INFO:tensorflow:Saving checkpoints for 0 into train/model.ckpt.\n",
            "INFO:tensorflow:loss = 83729.64, step = 0\n",
            "INFO:tensorflow:global_step/sec: 189.71\n",
            "INFO:tensorflow:loss = 13909.658, step = 100 (0.532 sec)\n",
            "INFO:tensorflow:global_step/sec: 216.029\n",
            "INFO:tensorflow:loss = 12881.449, step = 200 (0.464 sec)\n",
            "INFO:tensorflow:global_step/sec: 223.326\n",
            "INFO:tensorflow:loss = 12391.541, step = 300 (0.449 sec)\n",
            "INFO:tensorflow:global_step/sec: 198.641\n",
            "INFO:tensorflow:loss = 12050.561, step = 400 (0.499 sec)\n",
            "INFO:tensorflow:global_step/sec: 169.668\n",
            "INFO:tensorflow:loss = 11766.134, step = 500 (0.593 sec)\n",
            "INFO:tensorflow:global_step/sec: 141.428\n",
            "INFO:tensorflow:loss = 11509.92, step = 600 (0.703 sec)\n",
            "INFO:tensorflow:global_step/sec: 168.021\n",
            "INFO:tensorflow:loss = 11272.889, step = 700 (0.595 sec)\n",
            "INFO:tensorflow:global_step/sec: 171.982\n",
            "INFO:tensorflow:loss = 11051.978, step = 800 (0.587 sec)\n",
            "INFO:tensorflow:global_step/sec: 165.053\n",
            "INFO:tensorflow:loss = 10845.8545, step = 900 (0.600 sec)\n",
            "INFO:tensorflow:Saving checkpoints for 1000 into train/model.ckpt.\n",
            "INFO:tensorflow:Loss for final step: 5925.9854.\n"
          ],
          "name": "stdout"
        },
        {
          "output_type": "execute_result",
          "data": {
            "text/plain": [
              "<tensorflow.python.estimator.canned.linear.LinearRegressor at 0x7f1260694cc0>"
            ]
          },
          "metadata": {
            "tags": []
          },
          "execution_count": 35
        }
      ]
    },
    {
      "metadata": {
        "id": "vb8o4pShY9oS",
        "colab_type": "code",
        "colab": {
          "base_uri": "https://localhost:8080/",
          "height": 129
        },
        "outputId": "d39133fb-36bd-47e7-b1c6-08c04d31e730"
      },
      "cell_type": "code",
      "source": [
        "tensorboard --logdir=train"
      ],
      "execution_count": 36,
      "outputs": [
        {
          "output_type": "error",
          "ename": "SyntaxError",
          "evalue": "ignored",
          "traceback": [
            "\u001b[0;36m  File \u001b[0;32m\"<ipython-input-36-b880051c3b02>\"\u001b[0;36m, line \u001b[0;32m1\u001b[0m\n\u001b[0;31m    tensorboard --logdir=train\u001b[0m\n\u001b[0m                              ^\u001b[0m\n\u001b[0;31mSyntaxError\u001b[0m\u001b[0;31m:\u001b[0m can't assign to operator\n"
          ]
        }
      ]
    },
    {
      "metadata": {
        "id": "57M2NOOIbUIY",
        "colab_type": "code",
        "colab": {
          "base_uri": "https://localhost:8080/",
          "height": 207
        },
        "outputId": "e591311c-e175-49c5-8b74-94a7b81f16a1"
      },
      "cell_type": "code",
      "source": [
        "ev = estimator.evaluate(    \n",
        "          input_fn=get_input_fn(test_set,                          \n",
        "          num_epochs=1,                          \n",
        "          n_batch = 128,                          \n",
        "          shuffle=False))"
      ],
      "execution_count": 37,
      "outputs": [
        {
          "output_type": "stream",
          "text": [
            "INFO:tensorflow:Calling model_fn.\n",
            "INFO:tensorflow:Done calling model_fn.\n",
            "INFO:tensorflow:Starting evaluation at 2019-01-15-15:44:17\n",
            "INFO:tensorflow:Graph was finalized.\n",
            "INFO:tensorflow:Restoring parameters from train/model.ckpt-1000\n",
            "INFO:tensorflow:Running local_init_op.\n",
            "INFO:tensorflow:Done running local_init_op.\n",
            "INFO:tensorflow:Finished evaluation at 2019-01-15-15:44:17\n",
            "INFO:tensorflow:Saving dict for global step 1000: average_loss = 32.15895, global_step = 1000, label/mean = 22.08, loss = 3215.8953, prediction/mean = 22.404535\n",
            "INFO:tensorflow:Saving 'checkpoint_path' summary for global step 1000: train/model.ckpt-1000\n"
          ],
          "name": "stdout"
        }
      ]
    },
    {
      "metadata": {
        "id": "pbr6WN8zbm_w",
        "colab_type": "code",
        "colab": {
          "base_uri": "https://localhost:8080/",
          "height": 34
        },
        "outputId": "214341ac-16f6-4456-e3bd-6cc35fcc4667"
      },
      "cell_type": "code",
      "source": [
        "loss_score = ev[\"loss\"]\n",
        "print(\"Loss: {0:f}\".format(loss_score))"
      ],
      "execution_count": 38,
      "outputs": [
        {
          "output_type": "stream",
          "text": [
            "Loss: 3215.895264\n"
          ],
          "name": "stdout"
        }
      ]
    },
    {
      "metadata": {
        "id": "DiBvLr7jb6Nt",
        "colab_type": "code",
        "colab": {
          "base_uri": "https://localhost:8080/",
          "height": 170
        },
        "outputId": "d052ee85-3fa6-4f0a-9969-ac2dba612cf3"
      },
      "cell_type": "code",
      "source": [
        "train_set['medv'].describe()"
      ],
      "execution_count": 41,
      "outputs": [
        {
          "output_type": "execute_result",
          "data": {
            "text/plain": [
              "count    400.000000\n",
              "mean      22.625500\n",
              "std        9.572593\n",
              "min        5.000000\n",
              "25%       16.600000\n",
              "50%       21.400000\n",
              "75%       25.025000\n",
              "max       50.000000\n",
              "Name: medv, dtype: float64"
            ]
          },
          "metadata": {
            "tags": []
          },
          "execution_count": 41
        }
      ]
    },
    {
      "metadata": {
        "id": "tYzY1apbfdxo",
        "colab_type": "code",
        "colab": {
          "base_uri": "https://localhost:8080/",
          "height": 207
        },
        "outputId": "8741f7b1-7492-432e-ebb5-394482581156"
      },
      "cell_type": "code",
      "source": [
        "ev = estimator.evaluate(    \n",
        "          input_fn=get_input_fn(test_set,                          \n",
        "          num_epochs=1,                          \n",
        "          n_batch = 128,                          \n",
        "          shuffle=False))"
      ],
      "execution_count": 42,
      "outputs": [
        {
          "output_type": "stream",
          "text": [
            "INFO:tensorflow:Calling model_fn.\n",
            "INFO:tensorflow:Done calling model_fn.\n",
            "INFO:tensorflow:Starting evaluation at 2019-01-15-16:03:35\n",
            "INFO:tensorflow:Graph was finalized.\n",
            "INFO:tensorflow:Restoring parameters from train/model.ckpt-1000\n",
            "INFO:tensorflow:Running local_init_op.\n",
            "INFO:tensorflow:Done running local_init_op.\n",
            "INFO:tensorflow:Finished evaluation at 2019-01-15-16:03:35\n",
            "INFO:tensorflow:Saving dict for global step 1000: average_loss = 32.15895, global_step = 1000, label/mean = 22.08, loss = 3215.8953, prediction/mean = 22.404535\n",
            "INFO:tensorflow:Saving 'checkpoint_path' summary for global step 1000: train/model.ckpt-1000\n"
          ],
          "name": "stdout"
        }
      ]
    },
    {
      "metadata": {
        "id": "Q64O23ZVf0Ty",
        "colab_type": "code",
        "colab": {
          "base_uri": "https://localhost:8080/",
          "height": 34
        },
        "outputId": "8e35f05b-cc3e-4f68-d071-b1c3557cb929"
      },
      "cell_type": "code",
      "source": [
        "loss_score = ev[\"loss\"]\n",
        "print(\"Loss: {0:f}\".format(loss_score))\t"
      ],
      "execution_count": 43,
      "outputs": [
        {
          "output_type": "stream",
          "text": [
            "Loss: 3215.895264\n"
          ],
          "name": "stdout"
        }
      ]
    },
    {
      "metadata": {
        "id": "sYkkKblRf8k_",
        "colab_type": "code",
        "colab": {
          "base_uri": "https://localhost:8080/",
          "height": 170
        },
        "outputId": "eb6367e9-d7e5-4fb7-f4ce-309f2db0a28c"
      },
      "cell_type": "code",
      "source": [
        "train_set['medv'].describe()"
      ],
      "execution_count": 45,
      "outputs": [
        {
          "output_type": "execute_result",
          "data": {
            "text/plain": [
              "count    400.000000\n",
              "mean      22.625500\n",
              "std        9.572593\n",
              "min        5.000000\n",
              "25%       16.600000\n",
              "50%       21.400000\n",
              "75%       25.025000\n",
              "max       50.000000\n",
              "Name: medv, dtype: float64"
            ]
          },
          "metadata": {
            "tags": []
          },
          "execution_count": 45
        }
      ]
    },
    {
      "metadata": {
        "id": "s3xhppeUgKTZ",
        "colab_type": "code",
        "colab": {}
      },
      "cell_type": "code",
      "source": [
        "y = estimator.predict(    \n",
        "         input_fn=get_input_fn(prediction_set,                          \n",
        "         num_epochs=1,                          \n",
        "         n_batch = 128,                          \n",
        "         shuffle=False))"
      ],
      "execution_count": 0,
      "outputs": []
    },
    {
      "metadata": {
        "id": "QbUA3l_6gnEK",
        "colab_type": "code",
        "colab": {
          "base_uri": "https://localhost:8080/",
          "height": 156
        },
        "outputId": "cdd3aa4b-1e81-411a-e7d3-0323bda4db1b"
      },
      "cell_type": "code",
      "source": [
        "predictions = list(p[\"predictions\"]for p in itertools.islice(y, 6))\n",
        "print(\"Predictions: {}\".format(str(predictions)))"
      ],
      "execution_count": 50,
      "outputs": [
        {
          "output_type": "stream",
          "text": [
            "INFO:tensorflow:Calling model_fn.\n",
            "INFO:tensorflow:Done calling model_fn.\n",
            "INFO:tensorflow:Graph was finalized.\n",
            "INFO:tensorflow:Restoring parameters from train/model.ckpt-1000\n",
            "INFO:tensorflow:Running local_init_op.\n",
            "INFO:tensorflow:Done running local_init_op.\n",
            "Predictions: [array([32.297546], dtype=float32), array([18.961254], dtype=float32), array([27.27098], dtype=float32), array([29.29924], dtype=float32), array([16.436684], dtype=float32), array([21.460878], dtype=float32)]\n"
          ],
          "name": "stdout"
        }
      ]
    }
  ]
}